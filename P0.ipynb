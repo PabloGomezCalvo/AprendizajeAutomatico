{
 "cells": [
  {
   "cell_type": "code",
   "execution_count": 23,
   "metadata": {},
   "outputs": [
    {
     "data": {
      "image/png": "[encoded data removed]",
      "text/plain": [
       "<Figure size 432x288 with 1 Axes>"
      ]
     },
     "metadata": {},
     "output_type": "display_data"
    }
   ],
   "source": [
    "%matplotlib inline   \n",
    "# con inline se pone show al final, en el caso de poner notebook no hace falta el show\n",
    "import matplotlib.pyplot as plt   #importar biblioteca y renombrarla a plt\n",
    "import numpy as np\n",
    "\n",
    "plt.plot(0.1, 0.5,'x')\n",
    "plt.ylim(0.0,1.1)\n",
    "plt.xlim(0.0, 4.0)  #numeros de la parte inferior de la grafica\n",
    "\n",
    "plt.show()"
   ]
  },
  {
   "cell_type": "code",
   "execution_count": null,
   "metadata": {},
   "outputs": [],
   "source": []
  }
 ],
 "metadata": {
  "kernelspec": {
   "display_name": "Python 3",
   "language": "python",
   "name": "python3"
  },
  "language_info": {
   "codemirror_mode": {
    "name": "ipython",
    "version": 3
   },
   "file_extension": ".py",
   "mimetype": "text/x-python",
   "name": "python",
   "nbconvert_exporter": "python",
   "pygments_lexer": "ipython3",
   "version": "3.6.5"
  }
 },
 "nbformat": 4,
 "nbformat_minor": 2
}
