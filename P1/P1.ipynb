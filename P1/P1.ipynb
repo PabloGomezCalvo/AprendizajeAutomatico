{
 "cells": [
  {
   "cell_type": "code",
   "execution_count": 7,
   "metadata": {},
   "outputs": [
    {
     "data": {
      "image/png": "[encoded data removed]",
      "text/plain": [
       "<Figure size 432x288 with 1 Axes>"
      ]
     },
     "metadata": {
      "needs_background": "light"
     },
     "output_type": "display_data"
    }
   ],
   "source": [
    "from pandas.io.parsers import read_csv \n",
    "import matplotlib.pyplot as plt #importar biblioteca y renombrarla a plt\n",
    "import numpy as np\n",
    "\n",
    "def readCsv(nombre):\n",
    "    valores = read_csv(nombre, header = None).values\n",
    "    return valores.astype(float)\n",
    "\n",
    "def regresionLinear(X, y, m=0, b=0, vueltas=1500, ratio=0.01):\n",
    "    # b es el termino idependiente\n",
    "    # m es la teta que acompaña a X en la ecuacion recta\n",
    "    N = float(len(y))\n",
    "    for i in range(vueltas):#hacemos las vueltas totales\n",
    "        yac = (m * X) + b\n",
    "        cost = sum([data**2 for data in (y-yac)]) / N #sacamos el coste de la fucion actual mediante el sumatorio\n",
    "        m_gradiente = -(2/N) * sum(X * (y - yac))\n",
    "        b_gradiente = -(2/N) * sum(y - yac)\n",
    "        m = m - (ratio * m_gradiente)\n",
    "        b = b - (ratio * b_gradiente)\n",
    "    return m, b, cost\n",
    "    \n",
    "    \n",
    "def regLineal1Variable():\n",
    "    fig = plt.figure()\n",
    "    plt.xlim(4.5,23)\n",
    "    plt.ylim(-5,25)\n",
    "    valores = readCsv(\"ex1data1.csv\") #Doble array valores[x][y]\n",
    "    datos = regresionLinear(valores[0:,0],valores[0:,1])#[0] es m ,[1] es b ,[2] es el coste\n",
    "    \n",
    "    x = np.arange(4.5,23,0.1)\n",
    "    y = x * datos[0] + datos[1]\n",
    "    plt.plot(x,y)\n",
    "    \n",
    "    plt.plot(valores[0:,0],valores[0:,1],'x')\n",
    "\n",
    "regLineal1Variable()"
   ]
  },
  {
   "cell_type": "code",
   "execution_count": 43,
   "metadata": {
    "scrolled": true
   },
   "outputs": [
    {
     "ename": "ValueError",
     "evalue": "shapes (2,47) and (2,47) not aligned: 47 (dim 1) != 2 (dim 0)",
     "output_type": "error",
     "traceback": [
      "\u001b[1;31m---------------------------------------------------------------------------\u001b[0m",
      "\u001b[1;31mValueError\u001b[0m                                Traceback (most recent call last)",
      "\u001b[1;32m<ipython-input-43-ce1561693b1e>\u001b[0m in \u001b[0;36m<module>\u001b[1;34m()\u001b[0m\n\u001b[0;32m     38\u001b[0m     \u001b[0mdescensoGradiente\u001b[0m\u001b[1;33m(\u001b[0m\u001b[0mfeatures\u001b[0m\u001b[1;33m,\u001b[0m\u001b[0mnormalizado\u001b[0m\u001b[1;33m[\u001b[0m\u001b[1;36m0\u001b[0m\u001b[1;33m:\u001b[0m\u001b[1;33m,\u001b[0m\u001b[1;36m2\u001b[0m\u001b[1;33m]\u001b[0m\u001b[1;33m,\u001b[0m\u001b[0mtheta\u001b[0m\u001b[1;33m,\u001b[0m\u001b[1;36m0.1\u001b[0m\u001b[1;33m,\u001b[0m\u001b[1;36m1600\u001b[0m\u001b[1;33m)\u001b[0m\u001b[1;33m\u001b[0m\u001b[0m\n\u001b[0;32m     39\u001b[0m \u001b[1;33m\u001b[0m\u001b[0m\n\u001b[1;32m---> 40\u001b[1;33m \u001b[0mregLinealMultiplesVariables\u001b[0m\u001b[1;33m(\u001b[0m\u001b[1;33m)\u001b[0m\u001b[1;33m\u001b[0m\u001b[0m\n\u001b[0m",
      "\u001b[1;32m<ipython-input-43-ce1561693b1e>\u001b[0m in \u001b[0;36mregLinealMultiplesVariables\u001b[1;34m()\u001b[0m\n\u001b[0;32m     36\u001b[0m     \u001b[0mfeatures\u001b[0m \u001b[1;33m=\u001b[0m \u001b[1;33m[\u001b[0m\u001b[0mnormalizado\u001b[0m\u001b[1;33m[\u001b[0m\u001b[1;36m0\u001b[0m\u001b[1;33m:\u001b[0m\u001b[1;33m,\u001b[0m\u001b[1;36m0\u001b[0m\u001b[1;33m]\u001b[0m\u001b[1;33m,\u001b[0m\u001b[0mnormalizado\u001b[0m\u001b[1;33m[\u001b[0m\u001b[1;36m0\u001b[0m\u001b[1;33m:\u001b[0m\u001b[1;33m,\u001b[0m\u001b[1;36m1\u001b[0m\u001b[1;33m]\u001b[0m\u001b[1;33m]\u001b[0m\u001b[1;33m\u001b[0m\u001b[0m\n\u001b[0;32m     37\u001b[0m     \u001b[0mtheta\u001b[0m \u001b[1;33m=\u001b[0m \u001b[1;36m2\u001b[0m\u001b[1;33m\u001b[0m\u001b[0m\n\u001b[1;32m---> 38\u001b[1;33m     \u001b[0mdescensoGradiente\u001b[0m\u001b[1;33m(\u001b[0m\u001b[0mfeatures\u001b[0m\u001b[1;33m,\u001b[0m\u001b[0mnormalizado\u001b[0m\u001b[1;33m[\u001b[0m\u001b[1;36m0\u001b[0m\u001b[1;33m:\u001b[0m\u001b[1;33m,\u001b[0m\u001b[1;36m2\u001b[0m\u001b[1;33m]\u001b[0m\u001b[1;33m,\u001b[0m\u001b[0mtheta\u001b[0m\u001b[1;33m,\u001b[0m\u001b[1;36m0.1\u001b[0m\u001b[1;33m,\u001b[0m\u001b[1;36m1600\u001b[0m\u001b[1;33m)\u001b[0m\u001b[1;33m\u001b[0m\u001b[0m\n\u001b[0m\u001b[0;32m     39\u001b[0m \u001b[1;33m\u001b[0m\u001b[0m\n\u001b[0;32m     40\u001b[0m \u001b[0mregLinealMultiplesVariables\u001b[0m\u001b[1;33m(\u001b[0m\u001b[1;33m)\u001b[0m\u001b[1;33m\u001b[0m\u001b[0m\n",
      "\u001b[1;32m<ipython-input-43-ce1561693b1e>\u001b[0m in \u001b[0;36mdescensoGradiente\u001b[1;34m(features, values, theta, alpha, num_iterations)\u001b[0m\n\u001b[0;32m     20\u001b[0m     \u001b[1;32mfor\u001b[0m \u001b[0mi\u001b[0m \u001b[1;32min\u001b[0m \u001b[0mrange\u001b[0m\u001b[1;33m(\u001b[0m\u001b[0mnum_iterations\u001b[0m\u001b[1;33m)\u001b[0m\u001b[1;33m:\u001b[0m\u001b[1;33m\u001b[0m\u001b[0m\n\u001b[0;32m     21\u001b[0m         \u001b[0mpredicted_values\u001b[0m \u001b[1;33m=\u001b[0m \u001b[0mnp\u001b[0m\u001b[1;33m.\u001b[0m\u001b[0mdot\u001b[0m\u001b[1;33m(\u001b[0m\u001b[0mtheta\u001b[0m\u001b[1;33m,\u001b[0m\u001b[0mfeatures\u001b[0m\u001b[1;33m)\u001b[0m\u001b[1;33m\u001b[0m\u001b[0m\n\u001b[1;32m---> 22\u001b[1;33m         \u001b[0mtheta\u001b[0m \u001b[1;33m=\u001b[0m \u001b[0mtheta\u001b[0m \u001b[1;33m-\u001b[0m \u001b[0malpha\u001b[0m \u001b[1;33m/\u001b[0m \u001b[0mm\u001b[0m \u001b[1;33m*\u001b[0m \u001b[0mnp\u001b[0m\u001b[1;33m.\u001b[0m\u001b[0mdot\u001b[0m\u001b[1;33m(\u001b[0m\u001b[1;33m(\u001b[0m\u001b[0mpredicted_values\u001b[0m \u001b[1;33m-\u001b[0m \u001b[0mvalues\u001b[0m\u001b[1;33m)\u001b[0m\u001b[1;33m,\u001b[0m\u001b[0mfeatures\u001b[0m\u001b[1;33m)\u001b[0m\u001b[1;33m\u001b[0m\u001b[0m\n\u001b[0m\u001b[0;32m     23\u001b[0m \u001b[1;33m\u001b[0m\u001b[0m\n\u001b[0;32m     24\u001b[0m         \u001b[0mcost\u001b[0m \u001b[1;33m=\u001b[0m \u001b[0mcompute_cost\u001b[0m\u001b[1;33m(\u001b[0m\u001b[0mfeatures\u001b[0m\u001b[1;33m,\u001b[0m \u001b[0mvalues\u001b[0m\u001b[1;33m,\u001b[0m \u001b[0mtheta\u001b[0m\u001b[1;33m)\u001b[0m\u001b[1;33m\u001b[0m\u001b[0m\n",
      "\u001b[1;31mValueError\u001b[0m: shapes (2,47) and (2,47) not aligned: 47 (dim 1) != 2 (dim 0)"
     ]
    },
    {
     "data": {
      "text/plain": [
       "<Figure size 432x288 with 0 Axes>"
      ]
     },
     "metadata": {},
     "output_type": "display_data"
    }
   ],
   "source": [
    "def normaliza(valores):\n",
    "    mediax = np.mean(valores[0:,0])\n",
    "    mediay = np.mean(valores[0:,1])\n",
    "    mediaz = np.mean(valores[0:,2])\n",
    "    desTx = np.std(valores[0:,0])\n",
    "    desTy = np.std(valores[0:,1])\n",
    "    desTz = np.std(valores[0:,2])\n",
    "    #normalizamos los valores\n",
    "    valores[0:,0] = (valores[0:,0]-mediax)/desTx\n",
    "    valores[0:,1] = (valores[0:,1]-mediay)/desTy\n",
    "    valores[0:,2] = (valores[0:,2]-mediaz)/desTz\n",
    "    mu = [mediax,mediay,mediaz]\n",
    "    sigma = [desTx,desTy,desTz]\n",
    "    return valores, mu, sigma\n",
    "def compute_cost(features,values,theta):\n",
    "    \n",
    "    m = len(values)\n",
    "    sum_of_square_errors = np.square(np.dot(features,theta)-values).sum()\n",
    "    cost = sum_of_square_errors/ (2*m)\n",
    "    return cost\n",
    "\n",
    "def descensoGradiente(features, values, theta, alpha, num_iterations):\n",
    "    m = len(values)\n",
    "    cost_history = []\n",
    "    \n",
    "    for i in range(num_iterations):\n",
    "        predicted_values = np.dot(features,theta)\n",
    "        theta = theta - alpha / m * np.dot((predicted_values - values),features)\n",
    "        cost = compute_cost(features, values, theta)\n",
    "        cost_history.append(cost)\n",
    "    return theta, pandas.Series(cost_history)\n",
    "\n",
    "def regLinealMultiplesVariables():\n",
    "    fig = plt.figure()\n",
    "    x = readCsv(\"ex1data2.csv\") #Triple array valores[x][y][z]\n",
    "    #precio = m * pies^2 + m1 * numHabitaciones\n",
    "    datos = normaliza(x)\n",
    "    normalizado = datos[0]\n",
    "    medias = datos[1]\n",
    "    desviaEs = datos[2]\n",
    "    features = [normalizado[0:,0],normalizado[0:,1]]\n",
    "    theta = np.ones()\n",
    "    descensoGradiente(features,normalizado[0:,2],theta,0.1,1600)\n",
    "    \n",
    "regLinealMultiplesVariables()"
   ]
  },
  {
   "cell_type": "code",
   "execution_count": null,
   "metadata": {},
   "outputs": [],
   "source": []
  }
 ],
 "metadata": {
  "kernelspec": {
   "display_name": "Python 3",
   "language": "python",
   "name": "python3"
  },
  "language_info": {
   "codemirror_mode": {
    "name": "ipython",
    "version": 3
   },
   "file_extension": ".py",
   "mimetype": "text/x-python",
   "name": "python",
   "nbconvert_exporter": "python",
   "pygments_lexer": "ipython3",
   "version": "3.7.0"
  }
 },
 "nbformat": 4,
 "nbformat_minor": 2
}
