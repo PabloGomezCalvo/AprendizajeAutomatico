{
 "cells": [
  {
   "cell_type": "code",
   "execution_count": 42,
   "metadata": {},
   "outputs": [],
   "source": [
    "import pandas as pd\n",
    "import matplotlib.pyplot as plt #importar biblioteca y renombrarla a plt\n",
    "import numpy as np\n",
    "\n",
    "def readCsv(nombre):\n",
    "    valores = read_csv(nombre, header = None).values\n",
    "   \n",
    "    return valores.astype(float)\n",
    "\n"
   ]
  },
  {
   "cell_type": "code",
   "execution_count": 43,
   "metadata": {},
   "outputs": [],
   "source": [
    "def calc_costo(dframe, th0, th1):\n",
    "    \"\"\" Calcula el costo J \"\"\"\n",
    "    poblacion = dframe[0:,0]\n",
    "    prediccion = poblacion * th1 + th0\n",
    "    ganancia = dframe[0:,1]\n",
    "    return np.sum(np.square((prediccion - ganancia)) / len(dframe) / 2.0)"
   ]
  },
  {
   "cell_type": "code",
   "execution_count": 44,
   "metadata": {
    "collapsed": true
   },
   "outputs": [],
   "source": [
    "def grad_desc(dframe, th0, th1, alpha):\n",
    "    \"\"\" Implementa un paso en el algoritmo de descenso en gradiente \"\"\"\n",
    "    length = len(dframe)\n",
    "    array = np.ones((length,3))\n",
    "    array[0:,0] = dframe[0:,0]\n",
    "    array[0:,1] = dframe[0:,1]\n",
    "    dframe=array\n",
    "    dframe[0:,2] = dframe[0:,0] * th1 + th0\n",
    "    th0 = th0 - alpha / length * np.sum((dframe[0:,2] - dframe[0:,1]))\n",
    "    th1 = th1 - alpha / length * np.sum(((dframe[0:,2] - dframe[0:,1]) * dframe[0:,0]))\n",
    "    return th0, th1"
   ]
  },
  {
   "cell_type": "code",
   "execution_count": 69,
   "metadata": {},
   "outputs": [],
   "source": [
    "def test_graph(df, iteraciones):\n",
    "    \"\"\" implementa el método del descenso en el dataframe \"\"\"\n",
    "    theta0, theta1 = 0, 0\n",
    "    alpha = 0.01\n",
    "    for elem in range(iteraciones):\n",
    "        theta0, theta1 = grad_desc(df, theta0, theta1, alpha)\n",
    "\n",
    "    costo = calc_costo(df, theta0, theta1)\n",
    "    plt.plot(df[0:,0],df[0:,1],'x')\n",
    "    plt.plot (df[0:,0],df[0:,0]*theta1 + theta0)\n",
    "    plt.show()\n"
   ]
  },
  {
   "cell_type": "code",
   "execution_count": 70,
   "metadata": {},
   "outputs": [
    {
     "data": {
      "image/png": "[encoded data removed]",
      "text/plain": [
       "<matplotlib.figure.Figure at 0x20ff8668a90>"
      ]
     },
     "metadata": {},
     "output_type": "display_data"
    }
   ],
   "source": [
    "\n",
    "datos = readCsv(\"ex1data1.csv\")\n",
    "test_graph(datos, 1500)"
   ]
  },
  {
   "cell_type": "code",
   "execution_count": 71,
   "metadata": {},
   "outputs": [
    {
     "data": {
      "image/png": "[encoded data removed]",
      "text/plain": [
       "<matplotlib.figure.Figure at 0x20ff88bab00>"
      ]
     },
     "metadata": {},
     "output_type": "display_data"
    }
   ],
   "source": [
    "def plot_with_cost(df, iteraciones):\n",
    "    \"\"\" Calcula el costo por cada iteración \"\"\"\n",
    "    valores_costo = []\n",
    "    theta0, theta1 = 0, 0\n",
    "    alpha = 0.01\n",
    "    for elem in range(iteraciones):\n",
    "        theta0, theta1 = grad_desc(df, theta0, theta1, alpha)\n",
    "        costo = calc_costo(df, theta0, theta1)\n",
    "        valores_costo.append(costo)\n",
    "    plt.plot(range(iteraciones), valores_costo)\n",
    "    plt.show()\n",
    "\n",
    "plot_with_cost(datos, 1500)"
   ]
  },
  {
   "cell_type": "code",
   "execution_count": null,
   "metadata": {
    "collapsed": true
   },
   "outputs": [],
   "source": []
  },
  {
   "cell_type": "code",
   "execution_count": null,
   "metadata": {
    "collapsed": true
   },
   "outputs": [],
   "source": []
  },
  {
   "cell_type": "code",
   "execution_count": null,
   "metadata": {
    "collapsed": true
   },
   "outputs": [],
   "source": []
  },
  {
   "cell_type": "code",
   "execution_count": null,
   "metadata": {
    "collapsed": true
   },
   "outputs": [],
   "source": []
  },
  {
   "cell_type": "code",
   "execution_count": null,
   "metadata": {
    "collapsed": true
   },
   "outputs": [],
   "source": []
  },
  {
   "cell_type": "code",
   "execution_count": null,
   "metadata": {
    "collapsed": true
   },
   "outputs": [],
   "source": []
  },
  {
   "cell_type": "code",
   "execution_count": 43,
   "metadata": {
    "scrolled": true
   },
   "outputs": [
    {
     "ename": "ValueError",
     "evalue": "shapes (2,47) and (2,47) not aligned: 47 (dim 1) != 2 (dim 0)",
     "output_type": "error",
     "traceback": [
      "\u001b[1;31m---------------------------------------------------------------------------\u001b[0m",
      "\u001b[1;31mValueError\u001b[0m                                Traceback (most recent call last)",
      "\u001b[1;32m<ipython-input-43-ce1561693b1e>\u001b[0m in \u001b[0;36m<module>\u001b[1;34m()\u001b[0m\n\u001b[0;32m     38\u001b[0m     \u001b[0mdescensoGradiente\u001b[0m\u001b[1;33m(\u001b[0m\u001b[0mfeatures\u001b[0m\u001b[1;33m,\u001b[0m\u001b[0mnormalizado\u001b[0m\u001b[1;33m[\u001b[0m\u001b[1;36m0\u001b[0m\u001b[1;33m:\u001b[0m\u001b[1;33m,\u001b[0m\u001b[1;36m2\u001b[0m\u001b[1;33m]\u001b[0m\u001b[1;33m,\u001b[0m\u001b[0mtheta\u001b[0m\u001b[1;33m,\u001b[0m\u001b[1;36m0.1\u001b[0m\u001b[1;33m,\u001b[0m\u001b[1;36m1600\u001b[0m\u001b[1;33m)\u001b[0m\u001b[1;33m\u001b[0m\u001b[0m\n\u001b[0;32m     39\u001b[0m \u001b[1;33m\u001b[0m\u001b[0m\n\u001b[1;32m---> 40\u001b[1;33m \u001b[0mregLinealMultiplesVariables\u001b[0m\u001b[1;33m(\u001b[0m\u001b[1;33m)\u001b[0m\u001b[1;33m\u001b[0m\u001b[0m\n\u001b[0m",
      "\u001b[1;32m<ipython-input-43-ce1561693b1e>\u001b[0m in \u001b[0;36mregLinealMultiplesVariables\u001b[1;34m()\u001b[0m\n\u001b[0;32m     36\u001b[0m     \u001b[0mfeatures\u001b[0m \u001b[1;33m=\u001b[0m \u001b[1;33m[\u001b[0m\u001b[0mnormalizado\u001b[0m\u001b[1;33m[\u001b[0m\u001b[1;36m0\u001b[0m\u001b[1;33m:\u001b[0m\u001b[1;33m,\u001b[0m\u001b[1;36m0\u001b[0m\u001b[1;33m]\u001b[0m\u001b[1;33m,\u001b[0m\u001b[0mnormalizado\u001b[0m\u001b[1;33m[\u001b[0m\u001b[1;36m0\u001b[0m\u001b[1;33m:\u001b[0m\u001b[1;33m,\u001b[0m\u001b[1;36m1\u001b[0m\u001b[1;33m]\u001b[0m\u001b[1;33m]\u001b[0m\u001b[1;33m\u001b[0m\u001b[0m\n\u001b[0;32m     37\u001b[0m     \u001b[0mtheta\u001b[0m \u001b[1;33m=\u001b[0m \u001b[1;36m2\u001b[0m\u001b[1;33m\u001b[0m\u001b[0m\n\u001b[1;32m---> 38\u001b[1;33m     \u001b[0mdescensoGradiente\u001b[0m\u001b[1;33m(\u001b[0m\u001b[0mfeatures\u001b[0m\u001b[1;33m,\u001b[0m\u001b[0mnormalizado\u001b[0m\u001b[1;33m[\u001b[0m\u001b[1;36m0\u001b[0m\u001b[1;33m:\u001b[0m\u001b[1;33m,\u001b[0m\u001b[1;36m2\u001b[0m\u001b[1;33m]\u001b[0m\u001b[1;33m,\u001b[0m\u001b[0mtheta\u001b[0m\u001b[1;33m,\u001b[0m\u001b[1;36m0.1\u001b[0m\u001b[1;33m,\u001b[0m\u001b[1;36m1600\u001b[0m\u001b[1;33m)\u001b[0m\u001b[1;33m\u001b[0m\u001b[0m\n\u001b[0m\u001b[0;32m     39\u001b[0m \u001b[1;33m\u001b[0m\u001b[0m\n\u001b[0;32m     40\u001b[0m \u001b[0mregLinealMultiplesVariables\u001b[0m\u001b[1;33m(\u001b[0m\u001b[1;33m)\u001b[0m\u001b[1;33m\u001b[0m\u001b[0m\n",
      "\u001b[1;32m<ipython-input-43-ce1561693b1e>\u001b[0m in \u001b[0;36mdescensoGradiente\u001b[1;34m(features, values, theta, alpha, num_iterations)\u001b[0m\n\u001b[0;32m     20\u001b[0m     \u001b[1;32mfor\u001b[0m \u001b[0mi\u001b[0m \u001b[1;32min\u001b[0m \u001b[0mrange\u001b[0m\u001b[1;33m(\u001b[0m\u001b[0mnum_iterations\u001b[0m\u001b[1;33m)\u001b[0m\u001b[1;33m:\u001b[0m\u001b[1;33m\u001b[0m\u001b[0m\n\u001b[0;32m     21\u001b[0m         \u001b[0mpredicted_values\u001b[0m \u001b[1;33m=\u001b[0m \u001b[0mnp\u001b[0m\u001b[1;33m.\u001b[0m\u001b[0mdot\u001b[0m\u001b[1;33m(\u001b[0m\u001b[0mtheta\u001b[0m\u001b[1;33m,\u001b[0m\u001b[0mfeatures\u001b[0m\u001b[1;33m)\u001b[0m\u001b[1;33m\u001b[0m\u001b[0m\n\u001b[1;32m---> 22\u001b[1;33m         \u001b[0mtheta\u001b[0m \u001b[1;33m=\u001b[0m \u001b[0mtheta\u001b[0m \u001b[1;33m-\u001b[0m \u001b[0malpha\u001b[0m \u001b[1;33m/\u001b[0m \u001b[0mm\u001b[0m \u001b[1;33m*\u001b[0m \u001b[0mnp\u001b[0m\u001b[1;33m.\u001b[0m\u001b[0mdot\u001b[0m\u001b[1;33m(\u001b[0m\u001b[1;33m(\u001b[0m\u001b[0mpredicted_values\u001b[0m \u001b[1;33m-\u001b[0m \u001b[0mvalues\u001b[0m\u001b[1;33m)\u001b[0m\u001b[1;33m,\u001b[0m\u001b[0mfeatures\u001b[0m\u001b[1;33m)\u001b[0m\u001b[1;33m\u001b[0m\u001b[0m\n\u001b[0m\u001b[0;32m     23\u001b[0m \u001b[1;33m\u001b[0m\u001b[0m\n\u001b[0;32m     24\u001b[0m         \u001b[0mcost\u001b[0m \u001b[1;33m=\u001b[0m \u001b[0mcompute_cost\u001b[0m\u001b[1;33m(\u001b[0m\u001b[0mfeatures\u001b[0m\u001b[1;33m,\u001b[0m \u001b[0mvalues\u001b[0m\u001b[1;33m,\u001b[0m \u001b[0mtheta\u001b[0m\u001b[1;33m)\u001b[0m\u001b[1;33m\u001b[0m\u001b[0m\n",
      "\u001b[1;31mValueError\u001b[0m: shapes (2,47) and (2,47) not aligned: 47 (dim 1) != 2 (dim 0)"
     ]
    },
    {
     "data": {
      "text/plain": [
       "<Figure size 432x288 with 0 Axes>"
      ]
     },
     "metadata": {},
     "output_type": "display_data"
    }
   ],
   "source": [
    "def normaliza(valores):\n",
    "    mediax = np.mean(valores[0:,0])\n",
    "    mediay = np.mean(valores[0:,1])\n",
    "    mediaz = np.mean(valores[0:,2])\n",
    "    desTx = np.std(valores[0:,0])\n",
    "    desTy = np.std(valores[0:,1])\n",
    "    desTz = np.std(valores[0:,2])\n",
    "    #normalizamos los valores\n",
    "    valores[0:,0] = (valores[0:,0]-mediax)/desTx\n",
    "    valores[0:,1] = (valores[0:,1]-mediay)/desTy\n",
    "    valores[0:,2] = (valores[0:,2]-mediaz)/desTz\n",
    "    mu = [mediax,mediay,mediaz]\n",
    "    sigma = [desTx,desTy,desTz]\n",
    "    return valores, mu, sigma\n",
    "def compute_cost(features,values,theta):\n",
    "    \n",
    "    m = len(values)\n",
    "    sum_of_square_errors = np.square(np.dot(features,theta)-values).sum()\n",
    "    cost = sum_of_square_errors/ (2*m)\n",
    "    return cost\n",
    "\n",
    "def descensoGradiente(features, values, theta, alpha, num_iterations):\n",
    "    m = len(values)\n",
    "    cost_history = []\n",
    "    \n",
    "    for i in range(num_iterations):\n",
    "        predicted_values = np.dot(features,theta)\n",
    "        theta = theta - alpha / m * np.dot((predicted_values - values),features)\n",
    "        cost = compute_cost(features, values, theta)\n",
    "        cost_history.append(cost)\n",
    "    return theta, pandas.Series(cost_history)\n",
    "\n",
    "def regLinealMultiplesVariables():\n",
    "    fig = plt.figure()\n",
    "    x = readCsv(\"ex1data2.csv\") #Triple array valores[x][y][z]\n",
    "    #precio = m * pies^2 + m1 * numHabitaciones\n",
    "    datos = normaliza(x)\n",
    "    normalizado = datos[0]\n",
    "    medias = datos[1]\n",
    "    desviaEs = datos[2]\n",
    "    features = [normalizado[0:,0],normalizado[0:,1]]\n",
    "    theta = np.ones()\n",
    "    descensoGradiente(features,normalizado[0:,2],theta,0.1,1600)\n",
    "    \n",
    "regLinealMultiplesVariables()"
   ]
  },
  {
   "cell_type": "code",
   "execution_count": null,
   "metadata": {
    "collapsed": true
   },
   "outputs": [],
   "source": []
  }
 ],
 "metadata": {
  "kernelspec": {
   "display_name": "Python 3",
   "language": "python",
   "name": "python3"
  },
  "language_info": {
   "codemirror_mode": {
    "name": "ipython",
    "version": 3
   },
   "file_extension": ".py",
   "mimetype": "text/x-python",
   "name": "python",
   "nbconvert_exporter": "python",
   "pygments_lexer": "ipython3",
   "version": "3.6.2"
  }
 },
 "nbformat": 4,
 "nbformat_minor": 2
}
